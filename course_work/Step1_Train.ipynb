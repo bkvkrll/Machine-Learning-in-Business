{
  "nbformat": 4,
  "nbformat_minor": 0,
  "metadata": {
    "colab": {
      "name": "Step1_Train.ipynb",
      "provenance": [],
      "collapsed_sections": [],
      "authorship_tag": "ABX9TyPBA4oAhzclODOUmum1iBPR",
      "include_colab_link": true
    },
    "kernelspec": {
      "name": "python3",
      "display_name": "Python 3"
    },
    "language_info": {
      "name": "python"
    }
  },
  "cells": [
    {
      "cell_type": "markdown",
      "metadata": {
        "id": "view-in-github",
        "colab_type": "text"
      },
      "source": [
        "<a href=\"https://colab.research.google.com/github/bkvkrll/Machine-Learning-in-Business/blob/main/Step1_Train.ipynb\" target=\"_parent\"><img src=\"https://colab.research.google.com/assets/colab-badge.svg\" alt=\"Open In Colab\"/></a>"
      ]
    },
    {
      "cell_type": "markdown",
      "source": [
        "The Myers Briggs Type Indicator  https://www.kaggle.com/datasnaek/mbti-type?select=mbti_1.csv"
      ],
      "metadata": {
        "id": "9l7qnlt0HTRH"
      }
    },
    {
      "cell_type": "code",
      "source": [
        "pip install razdel"
      ],
      "metadata": {
        "colab": {
          "base_uri": "https://localhost:8080/"
        },
        "id": "6p2FPBxCKUHZ",
        "outputId": "77d4c0b6-d6b7-4f49-f3cd-4b31d8200ced"
      },
      "execution_count": 1,
      "outputs": [
        {
          "output_type": "stream",
          "name": "stdout",
          "text": [
            "Collecting razdel\n",
            "  Downloading razdel-0.5.0-py3-none-any.whl (21 kB)\n",
            "Installing collected packages: razdel\n",
            "Successfully installed razdel-0.5.0\n"
          ]
        }
      ]
    },
    {
      "cell_type": "code",
      "source": [
        "pip install pymorphy2"
      ],
      "metadata": {
        "colab": {
          "base_uri": "https://localhost:8080/"
        },
        "id": "IDMuDYR7MAZV",
        "outputId": "5decc744-1336-4846-cd9b-2943e6321317"
      },
      "execution_count": 2,
      "outputs": [
        {
          "output_type": "stream",
          "name": "stdout",
          "text": [
            "Collecting pymorphy2\n",
            "  Downloading pymorphy2-0.9.1-py3-none-any.whl (55 kB)\n",
            "\u001b[K     |████████████████████████████████| 55 kB 2.0 MB/s \n",
            "\u001b[?25hRequirement already satisfied: docopt>=0.6 in /usr/local/lib/python3.7/dist-packages (from pymorphy2) (0.6.2)\n",
            "Collecting pymorphy2-dicts-ru<3.0,>=2.4\n",
            "  Downloading pymorphy2_dicts_ru-2.4.417127.4579844-py2.py3-none-any.whl (8.2 MB)\n",
            "\u001b[K     |████████████████████████████████| 8.2 MB 10.1 MB/s \n",
            "\u001b[?25hCollecting dawg-python>=0.7.1\n",
            "  Downloading DAWG_Python-0.7.2-py2.py3-none-any.whl (11 kB)\n",
            "Installing collected packages: pymorphy2-dicts-ru, dawg-python, pymorphy2\n",
            "Successfully installed dawg-python-0.7.2 pymorphy2-0.9.1 pymorphy2-dicts-ru-2.4.417127.4579844\n"
          ]
        }
      ]
    },
    {
      "cell_type": "code",
      "execution_count": 3,
      "metadata": {
        "id": "dwd3ihcIHMA6"
      },
      "outputs": [],
      "source": [
        "import pandas as pd\n",
        "\n",
        "import numpy as np\n",
        "from sklearn.pipeline import Pipeline, make_pipeline\n",
        "from sklearn.base import BaseEstimator, TransformerMixin\n",
        "from sklearn.linear_model import LogisticRegression\n",
        "from sklearn.model_selection import train_test_split\n",
        "from sklearn.feature_extraction.text import TfidfVectorizer\n",
        "import itertools\n",
        "from gensim.test.utils import common_texts\n",
        "from gensim.corpora.dictionary import Dictionary\n",
        "import re\n",
        "from nltk.corpus import stopwords\n",
        "from razdel import tokenize\n",
        "import pymorphy2\n",
        "import nltk"
      ]
    },
    {
      "cell_type": "code",
      "source": [
        "comments = pd.read_csv(\"mbti_1.csv\")\n",
        "print(comments.shape)\n",
        "comments['posts'][0]"
      ],
      "metadata": {
        "colab": {
          "base_uri": "https://localhost:8080/",
          "height": 146
        },
        "id": "5-lmku8dKFZU",
        "outputId": "5c2799e5-ab33-4b56-88bb-e28507b9a8c0"
      },
      "execution_count": 4,
      "outputs": [
        {
          "output_type": "stream",
          "name": "stdout",
          "text": [
            "(8675, 2)\n"
          ]
        },
        {
          "output_type": "execute_result",
          "data": {
            "application/vnd.google.colaboratory.intrinsic+json": {
              "type": "string"
            },
            "text/plain": [
              "\"'http://www.youtube.com/watch?v=qsXHcwe3krw|||http://41.media.tumblr.com/tumblr_lfouy03PMA1qa1rooo1_500.jpg|||enfp and intj moments  https://www.youtube.com/watch?v=iz7lE1g4XM4  sportscenter not top ten plays  https://www.youtube.com/watch?v=uCdfze1etec  pranks|||What has been the most life-changing experience in your life?|||http://www.youtube.com/watch?v=vXZeYwwRDw8   http://www.youtube.com/watch?v=u8ejam5DP3E  On repeat for most of today.|||May the PerC Experience immerse you.|||The last thing my INFJ friend posted on his facebook before committing suicide the next day. Rest in peace~   http://vimeo.com/22842206|||Hello ENFJ7. Sorry to hear of your distress. It's only natural for a relationship to not be perfection all the time in every moment of existence. Try to figure the hard times as times of growth, as...|||84389  84390  http://wallpaperpassion.com/upload/23700/friendship-boy-and-girl-wallpaper.jpg  http://assets.dornob.com/wp-content/uploads/2010/04/round-home-design.jpg ...|||Welcome and stuff.|||http://playeressence.com/wp-content/uploads/2013/08/RED-red-the-pokemon-master-32560474-450-338.jpg  Game. Set. Match.|||Prozac, wellbrutin, at least thirty minutes of moving your legs (and I don't mean moving them while sitting in your same desk chair), weed in moderation (maybe try edibles as a healthier alternative...|||Basically come up with three items you've determined that each type (or whichever types you want to do) would more than likely use, given each types' cognitive functions and whatnot, when left by...|||All things in moderation.  Sims is indeed a video game, and a good one at that. Note: a good one at that is somewhat subjective in that I am not completely promoting the death of any given Sim...|||Dear ENFP:  What were your favorite video games growing up and what are your now, current favorite video games? :cool:|||https://www.youtube.com/watch?v=QyPqT8umzmY|||It appears to be too late. :sad:|||There's someone out there for everyone.|||Wait... I thought confidence was a good thing.|||I just cherish the time of solitude b/c i revel within my inner world more whereas most other time i'd be workin... just enjoy the me time while you can. Don't worry, people will always be around to...|||Yo entp ladies... if you're into a complimentary personality,well, hey.|||... when your main social outlet is xbox live conversations and even then you verbally fatigue quickly.|||http://www.youtube.com/watch?v=gDhy7rdfm14  I really dig the part from 1:46 to 2:50|||http://www.youtube.com/watch?v=msqXffgh7b8|||Banned because this thread requires it of me.|||Get high in backyard, roast and eat marshmellows in backyard while conversing over something intellectual, followed by massages and kisses.|||http://www.youtube.com/watch?v=Mw7eoU3BMbE|||http://www.youtube.com/watch?v=4V2uYORhQOk|||http://www.youtube.com/watch?v=SlVmgFQQ0TI|||Banned for too many b's in that sentence. How could you! Think of the B!|||Banned for watching movies in the corner with the dunces.|||Banned because Health class clearly taught you nothing about peer pressure.|||Banned for a whole host of reasons!|||http://www.youtube.com/watch?v=IRcrv41hgz4|||1) Two baby deer on left and right munching on a beetle in the middle.  2) Using their own blood, two cavemen diary today's latest happenings on their designated cave diary wall.  3) I see it as...|||a pokemon world  an infj society  everyone becomes an optimist|||49142|||http://www.youtube.com/watch?v=ZRCEq_JFeFM|||http://discovermagazine.com/2012/jul-aug/20-things-you-didnt-know-about-deserts/desert.jpg|||http://oyster.ignimgs.com/mediawiki/apis.ign.com/pokemon-silver-version/d/dd/Ditto.gif|||http://www.serebii.net/potw-dp/Scizor.jpg|||Not all artists are artists because they draw. It's the idea that counts in forming something of your own... like a signature.|||Welcome to the robot ranks, person who downed my self-esteem cuz I'm not an avid signature artist like herself. :proud:|||Banned for taking all the room under my bed. Ya gotta learn to share with the roaches.|||http://www.youtube.com/watch?v=w8IgImn57aQ|||Banned for being too much of a thundering, grumbling kind of storm... yep.|||Ahh... old high school music I haven't heard in ages.   http://www.youtube.com/watch?v=dcCRUPCdB1w|||I failed a public speaking class a few years ago and I've sort of learned what I could do better were I to be in that position again. A big part of my failure was just overloading myself with too...|||I like this person's mentality. He's a confirmed INTJ by the way. http://www.youtube.com/watch?v=hGKLI-GEc6M|||Move to the Denver area and start a new life for myself.'\""
            ]
          },
          "metadata": {},
          "execution_count": 4
        }
      ]
    },
    {
      "cell_type": "code",
      "source": [
        "comments.head(3)"
      ],
      "metadata": {
        "colab": {
          "base_uri": "https://localhost:8080/",
          "height": 143
        },
        "id": "l2NoBYjUKRgo",
        "outputId": "0972f505-8db6-4bad-deb1-1649274fc05d"
      },
      "execution_count": 5,
      "outputs": [
        {
          "output_type": "execute_result",
          "data": {
            "text/html": [
              "\n",
              "  <div id=\"df-d6eba6e0-0035-4c11-a471-7bf25d3854a3\">\n",
              "    <div class=\"colab-df-container\">\n",
              "      <div>\n",
              "<style scoped>\n",
              "    .dataframe tbody tr th:only-of-type {\n",
              "        vertical-align: middle;\n",
              "    }\n",
              "\n",
              "    .dataframe tbody tr th {\n",
              "        vertical-align: top;\n",
              "    }\n",
              "\n",
              "    .dataframe thead th {\n",
              "        text-align: right;\n",
              "    }\n",
              "</style>\n",
              "<table border=\"1\" class=\"dataframe\">\n",
              "  <thead>\n",
              "    <tr style=\"text-align: right;\">\n",
              "      <th></th>\n",
              "      <th>type</th>\n",
              "      <th>posts</th>\n",
              "    </tr>\n",
              "  </thead>\n",
              "  <tbody>\n",
              "    <tr>\n",
              "      <th>0</th>\n",
              "      <td>INFJ</td>\n",
              "      <td>'http://www.youtube.com/watch?v=qsXHcwe3krw|||...</td>\n",
              "    </tr>\n",
              "    <tr>\n",
              "      <th>1</th>\n",
              "      <td>ENTP</td>\n",
              "      <td>'I'm finding the lack of me in these posts ver...</td>\n",
              "    </tr>\n",
              "    <tr>\n",
              "      <th>2</th>\n",
              "      <td>INTP</td>\n",
              "      <td>'Good one  _____   https://www.youtube.com/wat...</td>\n",
              "    </tr>\n",
              "  </tbody>\n",
              "</table>\n",
              "</div>\n",
              "      <button class=\"colab-df-convert\" onclick=\"convertToInteractive('df-d6eba6e0-0035-4c11-a471-7bf25d3854a3')\"\n",
              "              title=\"Convert this dataframe to an interactive table.\"\n",
              "              style=\"display:none;\">\n",
              "        \n",
              "  <svg xmlns=\"http://www.w3.org/2000/svg\" height=\"24px\"viewBox=\"0 0 24 24\"\n",
              "       width=\"24px\">\n",
              "    <path d=\"M0 0h24v24H0V0z\" fill=\"none\"/>\n",
              "    <path d=\"M18.56 5.44l.94 2.06.94-2.06 2.06-.94-2.06-.94-.94-2.06-.94 2.06-2.06.94zm-11 1L8.5 8.5l.94-2.06 2.06-.94-2.06-.94L8.5 2.5l-.94 2.06-2.06.94zm10 10l.94 2.06.94-2.06 2.06-.94-2.06-.94-.94-2.06-.94 2.06-2.06.94z\"/><path d=\"M17.41 7.96l-1.37-1.37c-.4-.4-.92-.59-1.43-.59-.52 0-1.04.2-1.43.59L10.3 9.45l-7.72 7.72c-.78.78-.78 2.05 0 2.83L4 21.41c.39.39.9.59 1.41.59.51 0 1.02-.2 1.41-.59l7.78-7.78 2.81-2.81c.8-.78.8-2.07 0-2.86zM5.41 20L4 18.59l7.72-7.72 1.47 1.35L5.41 20z\"/>\n",
              "  </svg>\n",
              "      </button>\n",
              "      \n",
              "  <style>\n",
              "    .colab-df-container {\n",
              "      display:flex;\n",
              "      flex-wrap:wrap;\n",
              "      gap: 12px;\n",
              "    }\n",
              "\n",
              "    .colab-df-convert {\n",
              "      background-color: #E8F0FE;\n",
              "      border: none;\n",
              "      border-radius: 50%;\n",
              "      cursor: pointer;\n",
              "      display: none;\n",
              "      fill: #1967D2;\n",
              "      height: 32px;\n",
              "      padding: 0 0 0 0;\n",
              "      width: 32px;\n",
              "    }\n",
              "\n",
              "    .colab-df-convert:hover {\n",
              "      background-color: #E2EBFA;\n",
              "      box-shadow: 0px 1px 2px rgba(60, 64, 67, 0.3), 0px 1px 3px 1px rgba(60, 64, 67, 0.15);\n",
              "      fill: #174EA6;\n",
              "    }\n",
              "\n",
              "    [theme=dark] .colab-df-convert {\n",
              "      background-color: #3B4455;\n",
              "      fill: #D2E3FC;\n",
              "    }\n",
              "\n",
              "    [theme=dark] .colab-df-convert:hover {\n",
              "      background-color: #434B5C;\n",
              "      box-shadow: 0px 1px 3px 1px rgba(0, 0, 0, 0.15);\n",
              "      filter: drop-shadow(0px 1px 2px rgba(0, 0, 0, 0.3));\n",
              "      fill: #FFFFFF;\n",
              "    }\n",
              "  </style>\n",
              "\n",
              "      <script>\n",
              "        const buttonEl =\n",
              "          document.querySelector('#df-d6eba6e0-0035-4c11-a471-7bf25d3854a3 button.colab-df-convert');\n",
              "        buttonEl.style.display =\n",
              "          google.colab.kernel.accessAllowed ? 'block' : 'none';\n",
              "\n",
              "        async function convertToInteractive(key) {\n",
              "          const element = document.querySelector('#df-d6eba6e0-0035-4c11-a471-7bf25d3854a3');\n",
              "          const dataTable =\n",
              "            await google.colab.kernel.invokeFunction('convertToInteractive',\n",
              "                                                     [key], {});\n",
              "          if (!dataTable) return;\n",
              "\n",
              "          const docLinkHtml = 'Like what you see? Visit the ' +\n",
              "            '<a target=\"_blank\" href=https://colab.research.google.com/notebooks/data_table.ipynb>data table notebook</a>'\n",
              "            + ' to learn more about interactive tables.';\n",
              "          element.innerHTML = '';\n",
              "          dataTable['output_type'] = 'display_data';\n",
              "          await google.colab.output.renderOutput(dataTable, element);\n",
              "          const docLink = document.createElement('div');\n",
              "          docLink.innerHTML = docLinkHtml;\n",
              "          element.appendChild(docLink);\n",
              "        }\n",
              "      </script>\n",
              "    </div>\n",
              "  </div>\n",
              "  "
            ],
            "text/plain": [
              "   type                                              posts\n",
              "0  INFJ  'http://www.youtube.com/watch?v=qsXHcwe3krw|||...\n",
              "1  ENTP  'I'm finding the lack of me in these posts ver...\n",
              "2  INTP  'Good one  _____   https://www.youtube.com/wat..."
            ]
          },
          "metadata": {},
          "execution_count": 5
        }
      ]
    },
    {
      "cell_type": "code",
      "source": [
        "#text preprocessing\n",
        "import nltk\n",
        "nltk.download('stopwords')"
      ],
      "metadata": {
        "colab": {
          "base_uri": "https://localhost:8080/"
        },
        "id": "OemumFFLMc8G",
        "outputId": "2a6ec647-59d4-46d4-bade-0aa90fe64f7c"
      },
      "execution_count": 6,
      "outputs": [
        {
          "output_type": "stream",
          "name": "stdout",
          "text": [
            "[nltk_data] Downloading package stopwords to /root/nltk_data...\n",
            "[nltk_data]   Unzipping corpora/stopwords.zip.\n"
          ]
        },
        {
          "output_type": "execute_result",
          "data": {
            "text/plain": [
              "True"
            ]
          },
          "metadata": {},
          "execution_count": 6
        }
      ]
    },
    {
      "cell_type": "code",
      "source": [
        "stopword_eng = stopwords.words('english')\n",
        "print(len(stopword_eng))\n",
        "\n",
        "morph = pymorphy2.MorphAnalyzer()"
      ],
      "metadata": {
        "colab": {
          "base_uri": "https://localhost:8080/"
        },
        "id": "5JDElzY8KXQD",
        "outputId": "706b15dc-d7ba-423d-c8ba-fc2e02130fac"
      },
      "execution_count": 7,
      "outputs": [
        {
          "output_type": "stream",
          "name": "stdout",
          "text": [
            "179\n"
          ]
        }
      ]
    },
    {
      "cell_type": "code",
      "source": [
        "# stoplist file stop_word.txt\n",
        "with open('stop_word.txt') as f:\n",
        "    additional_stopwords = [w.strip() for w in f.readlines() if w]\n",
        "stopword_eng += additional_stopwords\n",
        "len(stopword_eng)"
      ],
      "metadata": {
        "colab": {
          "base_uri": "https://localhost:8080/"
        },
        "id": "xaFGSeLKKqgR",
        "outputId": "6c928317-4fae-41ed-fd8e-fb89ba7292ad"
      },
      "execution_count": 8,
      "outputs": [
        {
          "output_type": "execute_result",
          "data": {
            "text/plain": [
              "2868"
            ]
          },
          "metadata": {},
          "execution_count": 8
        }
      ]
    },
    {
      "cell_type": "code",
      "source": [
        "list_of_types = ['ENFJ', 'ENFP', 'ENTJ', 'ENTP', 'ESFJ', 'ESFP', 'ESTJ', 'ESTP', 'INFJ', 'INFP', 'INTJ', 'INTP', 'ISFJ', 'ISFP', 'ISTJ', 'ISTP']\n",
        "for type in list_of_types:\n",
        "    stopword_eng.append(type.lower())"
      ],
      "metadata": {
        "id": "0x91JNf6LYMQ"
      },
      "execution_count": 9,
      "outputs": []
    },
    {
      "cell_type": "code",
      "source": [
        "len(stopword_eng)"
      ],
      "metadata": {
        "colab": {
          "base_uri": "https://localhost:8080/"
        },
        "id": "K4qu_mcHLauK",
        "outputId": "942d75cd-bccf-4762-d058-7e25ac270381"
      },
      "execution_count": 10,
      "outputs": [
        {
          "output_type": "execute_result",
          "data": {
            "text/plain": [
              "2884"
            ]
          },
          "metadata": {},
          "execution_count": 10
        }
      ]
    },
    {
      "cell_type": "code",
      "source": [
        "f_1 = open(\"final_stop_words.txt\", 'a', encoding=\"utf-8\")\n",
        "f_1.write(stopword_eng[0])\n",
        "for word in stopword_eng[1:]:\n",
        "    f_1.write('\\n')\n",
        "    f_1.write(word)\n",
        "f_1.close()"
      ],
      "metadata": {
        "id": "rrEwVp0WLdbi"
      },
      "execution_count": 11,
      "outputs": []
    },
    {
      "cell_type": "code",
      "source": [
        "#text cleaning\n",
        "def clean_text(text):\n",
        "\n",
        "    if not isinstance(text, str):\n",
        "        text = str(text)\n",
        "    \n",
        "    text = text.lower()\n",
        "    text = text.strip('\\n').strip('\\r').strip('\\t')\n",
        "    text = re.sub(\"-\\s\\r\\n\\|-\\s\\r\\n|\\r\\n\", '', str(text))\n",
        "    text = re.sub(\"\\|\", ' ', str(text))\n",
        "    text = re.sub(\"https?:\\/\\/\\S+\", '', str(text))\n",
        "    text = re.sub(\"[0-9]|[-—.,:;_%©«»?*!@#№$^•·&()]|[+=]|[[]|[]]|[/]|\", '', text)\n",
        "    text = re.sub(r\"\\r\\n\\t|\\n|\\\\s|\\r\\t|\\\\n\", ' ', text)\n",
        "    text = re.sub(r'[\\xad]|[\\s+]', ' ', text.strip())\n",
        "    \n",
        "\n",
        "    return text\n",
        "\n",
        "cache = {}\n",
        "\n",
        "def lemmatization(text):\n",
        "\n",
        "\n",
        "    # [0]\n",
        "    if not isinstance(text, str):\n",
        "        text = str(text)\n",
        "    \n",
        "    # [1]\n",
        "    tokens = list(tokenize(text))\n",
        "    words = [_.text for _ in tokens]\n",
        "\n",
        "    words_lem = []\n",
        "    for w in words:\n",
        "        if w[0] == '-': # [2]\n",
        "            w = w[1:]\n",
        "        if len(w)>1: # [3]\n",
        "            if w in cache: # [4]\n",
        "                words_lem.append(cache[w])\n",
        "            else: # [5]\n",
        "                temp_cach = cache[w] = morph.parse(w)[0].normal_form\n",
        "                words_lem.append(temp_cach)\n",
        "    \n",
        "    words_lem_without_stopwords=[i for i in words_lem if not i in stopword_eng] # [6]\n",
        "    \n",
        "    return words_lem_without_stopwords"
      ],
      "metadata": {
        "id": "8Ana418uLpuy"
      },
      "execution_count": 12,
      "outputs": []
    },
    {
      "cell_type": "code",
      "source": [
        "text = clean_text(comments['posts'][0])\n",
        "text2 = lemmatization(text)\n",
        "print(text2)"
      ],
      "metadata": {
        "colab": {
          "base_uri": "https://localhost:8080/"
        },
        "id": "38gOSmzfLsAW",
        "outputId": "0f0b38d5-5cfc-4a29-9e9a-c42490ab8edc"
      },
      "execution_count": 13,
      "outputs": [
        {
          "output_type": "stream",
          "name": "stdout",
          "text": [
            "['moments', 'sportscenter', 'plays', 'pranks', 'lifechanging', 'experience', 'life', 'repeat', 'today', 'perc', 'experience', 'immerse', 'friend', 'posted', 'facebook', 'committing', 'suicide', 'day', 'rest', 'peace', 'hear', 'distress', 'natural', 'relationship', 'perfection', 'time', 'moment', 'existence', 'figure', 'hard', 'times', 'times', 'growth', 'stuff', 'game', 'set', 'match', 'prozac', 'wellbrutin', 'minutes', 'moving', 'legs', 'moving', 'sitting', 'desk', 'chair', 'weed', 'moderation', 'edibles', 'healthier', 'alternative', 'basically', 'items', 'determined', 'type', 'types', 'types', 'cognitive', 'functions', 'whatnot', 'left', 'moderation', 'sims', 'video', 'game', 'good', 'note', 'good', 'subjective', 'completely', 'promoting', 'death', 'sim', 'dear', 'favorite', 'video', 'games', 'growing', 'current', 'favorite', 'video', 'games', 'cool', 'appears', 'late', 'sad', 'wait', 'thought', 'confidence', 'good', 'cherish', 'time', 'solitude', 'bc', 'revel', 'time', 'workin', 'enjoy', 'time', 'worry', 'people', 'yo', 'ladies', 'complimentary', 'personalitywell', 'hey', 'main', 'social', 'outlet', 'xbox', 'live', 'conversations', 'verbally', 'fatigue', 'dig', 'banned', 'thread', 'requires', 'high', 'backyard', 'roast', 'eat', 'marshmellows', 'backyard', 'conversing', 'intellectual', 'massages', 'kisses', 'banned', 'sentence', 'banned', 'watching', 'movies', 'corner', 'dunces', 'banned', 'health', 'class', 'taught', 'peer', 'pressure', 'banned', 'host', 'reasons', 'baby', 'deer', 'left', 'munching', 'beetle', 'middle', 'blood', 'cavemen', 'diary', 'today', 'latest', 'happenings', 'designated', 'cave', 'diary', 'wall', 'pokemon', 'society', 'optimist', 'artists', 'artists', 'draw', 'idea', 'counts', 'forming', 'signature', 'robot', 'ranks', 'person', 'downed', 'selfesteem', 'cuz', 'avid', 'signature', 'artist', 'banned', 'room', 'bed', 'ya', 'gotta', 'learn', 'share', 'roaches', 'banned', 'thundering', 'grumbling', 'kind', 'storm', 'yep', 'ahh', 'high', 'school', 'music', 'heard', 'ages', 'failed', 'public', 'speaking', 'class', 'years', 'sort', 'learned', 'position', 'big', 'failure', 'overloading', 'person', 'mentality', 'confirmed', 'denver', 'area', 'start', 'life']\n"
          ]
        },
        {
          "output_type": "stream",
          "name": "stderr",
          "text": [
            "/usr/local/lib/python3.7/dist-packages/ipykernel_launcher.py:12: FutureWarning: Possible nested set at position 39\n",
            "  if sys.path[0] == '':\n"
          ]
        }
      ]
    },
    {
      "cell_type": "code",
      "source": [
        "%%time\n",
        "#text cleaning\n",
        "comments['posts'] = comments['posts'].apply(lambda x: clean_text(x), 1)"
      ],
      "metadata": {
        "colab": {
          "base_uri": "https://localhost:8080/"
        },
        "id": "cz6BnIP9Lvm_",
        "outputId": "1d1e24f3-7778-4cec-bcf6-05ef40253e9e"
      },
      "execution_count": 14,
      "outputs": [
        {
          "output_type": "stream",
          "name": "stdout",
          "text": [
            "CPU times: user 25 s, sys: 110 ms, total: 25.1 s\n",
            "Wall time: 32.4 s\n"
          ]
        }
      ]
    },
    {
      "cell_type": "code",
      "source": [
        "#lemmatization\n",
        "comments['posts'] = comments['posts'].apply(lambda x: lemmatization(x), 1)"
      ],
      "metadata": {
        "id": "JTpl1q4cLx9O"
      },
      "execution_count": 15,
      "outputs": []
    },
    {
      "cell_type": "code",
      "source": [
        "comments['posts']"
      ],
      "metadata": {
        "colab": {
          "base_uri": "https://localhost:8080/"
        },
        "id": "l5pN8QP9Lz4V",
        "outputId": "5b44b07a-a05b-4c32-cb5d-def41acefb8e"
      },
      "execution_count": 16,
      "outputs": [
        {
          "output_type": "execute_result",
          "data": {
            "text/plain": [
              "0       [moments, sportscenter, plays, pranks, lifecha...\n",
              "1       [finding, lack, posts, alarming, sex, boring, ...\n",
              "2       [good, blessing, curse, absolutely, positive, ...\n",
              "3       [dear, enjoyed, conversation, day, esoteric, g...\n",
              "4       [fired, silly, misconception, approaching, log...\n",
              "                              ...                        \n",
              "8670    [ixfp, cats, fi, doms, reason, websites, neo, ...\n",
              "8671    [soif, thread, exists, someplace, heck, delete...\n",
              "8672    [questions, purple, pill, pick, winning, lotte...\n",
              "8673    [conflicted, wanting, children, honestly, mate...\n",
              "8674    [long, personalitycafe, changed, bit, good, tu...\n",
              "Name: posts, Length: 8675, dtype: object"
            ]
          },
          "metadata": {},
          "execution_count": 16
        }
      ]
    },
    {
      "cell_type": "code",
      "source": [
        "comments['posts'] = comments['posts'].apply(lambda x: ' '.join(x), 1)"
      ],
      "metadata": {
        "id": "Q6DGEZMxL3lP"
      },
      "execution_count": 17,
      "outputs": []
    },
    {
      "cell_type": "code",
      "source": [
        "comments['posts']"
      ],
      "metadata": {
        "colab": {
          "base_uri": "https://localhost:8080/"
        },
        "id": "kJH-JPkbL5ZF",
        "outputId": "582a0108-ad11-490e-82ef-adea0fcd7504"
      },
      "execution_count": 18,
      "outputs": [
        {
          "output_type": "execute_result",
          "data": {
            "text/plain": [
              "0       moments sportscenter plays pranks lifechanging...\n",
              "1       finding lack posts alarming sex boring positio...\n",
              "2       good blessing curse absolutely positive friend...\n",
              "3       dear enjoyed conversation day esoteric gabbing...\n",
              "4       fired silly misconception approaching logicall...\n",
              "                              ...                        \n",
              "8670    ixfp cats fi doms reason websites neo nazis pe...\n",
              "8671    soif thread exists someplace heck delete ooops...\n",
              "8672    questions purple pill pick winning lottery num...\n",
              "8673    conflicted wanting children honestly maternal ...\n",
              "8674    long personalitycafe changed bit good turn doc...\n",
              "Name: posts, Length: 8675, dtype: object"
            ]
          },
          "metadata": {},
          "execution_count": 18
        }
      ]
    },
    {
      "cell_type": "code",
      "source": [
        "comments['type'].value_counts() "
      ],
      "metadata": {
        "colab": {
          "base_uri": "https://localhost:8080/"
        },
        "id": "aKhqVinAL74Q",
        "outputId": "b0b51c60-37a9-4453-a06f-6bda66cd47a8"
      },
      "execution_count": 19,
      "outputs": [
        {
          "output_type": "execute_result",
          "data": {
            "text/plain": [
              "INFP    1832\n",
              "INFJ    1470\n",
              "INTP    1304\n",
              "INTJ    1091\n",
              "ENTP     685\n",
              "ENFP     675\n",
              "ISTP     337\n",
              "ISFP     271\n",
              "ENTJ     231\n",
              "ISTJ     205\n",
              "ENFJ     190\n",
              "ISFJ     166\n",
              "ESTP      89\n",
              "ESFP      48\n",
              "ESFJ      42\n",
              "ESTJ      39\n",
              "Name: type, dtype: int64"
            ]
          },
          "metadata": {},
          "execution_count": 19
        }
      ]
    },
    {
      "cell_type": "code",
      "source": [
        "X_train, X_test, y_train, y_test = train_test_split(comments, comments['type'], random_state=0)"
      ],
      "metadata": {
        "id": "oK5iognOOTMJ"
      },
      "execution_count": 20,
      "outputs": []
    },
    {
      "cell_type": "code",
      "source": [
        "#Multiclass classification with GradientBoostingClassifier\n",
        "from sklearn.ensemble import GradientBoostingClassifier"
      ],
      "metadata": {
        "id": "Os9DR8xGOiLB"
      },
      "execution_count": 21,
      "outputs": []
    },
    {
      "cell_type": "code",
      "source": [
        "#make pipeline\n",
        "class FeatureSelector(BaseEstimator, TransformerMixin):\n",
        "    def __init__(self, column):\n",
        "        self.column = column\n",
        "\n",
        "    def fit(self, X, y=None):\n",
        "        return self\n",
        "\n",
        "    def transform(self, X, y=None):\n",
        "        return X[self.column]\n",
        "\n",
        "pipeline = Pipeline([('title_selector', FeatureSelector(column='posts')), \n",
        "                     ('title_tfidf', TfidfVectorizer()), \n",
        "                     ('clf', GradientBoostingClassifier())])"
      ],
      "metadata": {
        "id": "WsKG9SkHOinb"
      },
      "execution_count": 22,
      "outputs": []
    },
    {
      "cell_type": "code",
      "source": [
        "#learn pipline\n",
        "pipeline.fit(X_train, y_train)"
      ],
      "metadata": {
        "colab": {
          "base_uri": "https://localhost:8080/"
        },
        "id": "nMcUVegfOlOA",
        "outputId": "22116110-fcd7-44ba-ebe7-ea4ac1aabb22"
      },
      "execution_count": 23,
      "outputs": [
        {
          "output_type": "execute_result",
          "data": {
            "text/plain": [
              "Pipeline(steps=[('title_selector', FeatureSelector(column='posts')),\n",
              "                ('title_tfidf', TfidfVectorizer()),\n",
              "                ('clf', GradientBoostingClassifier())])"
            ]
          },
          "metadata": {},
          "execution_count": 23
        }
      ]
    },
    {
      "cell_type": "code",
      "source": [
        "#prediction\n",
        "preds = pipeline.predict(X_test)\n",
        "preds[:10]"
      ],
      "metadata": {
        "colab": {
          "base_uri": "https://localhost:8080/"
        },
        "id": "3VpQ1tgTOnKV",
        "outputId": "2da9bde1-988a-492f-bde6-b073be40f4bb"
      },
      "execution_count": 24,
      "outputs": [
        {
          "output_type": "execute_result",
          "data": {
            "text/plain": [
              "array(['INFP', 'INFJ', 'ENFP', 'INTJ', 'ENFP', 'INFP', 'INFP', 'ISFJ',\n",
              "       'INTJ', 'INFJ'], dtype=object)"
            ]
          },
          "metadata": {},
          "execution_count": 24
        }
      ]
    },
    {
      "cell_type": "code",
      "source": [
        "from sklearn.metrics import f1_score, roc_auc_score, precision_score"
      ],
      "metadata": {
        "id": "-KX10zqnZ1Cp"
      },
      "execution_count": 25,
      "outputs": []
    },
    {
      "cell_type": "code",
      "source": [
        "models_results = {\n",
        "    'approach': [],\n",
        "    'f1_score_micro': [],\n",
        "    'f1_score_macro': [],\n",
        "    'f1_score_weighted': [],\n",
        "    'precision_score_micro': [],\n",
        "    'precision_score_macro': [],\n",
        "    'precision_score_weighted': []\n",
        "}"
      ],
      "metadata": {
        "id": "b20xKhV9Z1fG"
      },
      "execution_count": 26,
      "outputs": []
    },
    {
      "cell_type": "code",
      "source": [
        "#result\n",
        "models_results['approach'].append('Multi_Grad_Boost')\n",
        "models_results['f1_score_micro'].append(f1_score(y_test, preds, average='micro'))\n",
        "models_results['f1_score_macro'].append(f1_score(y_test, preds, average='macro'))\n",
        "models_results['f1_score_weighted'].append(f1_score(y_test, preds, average='weighted'))\n",
        "models_results['precision_score_micro'].append(precision_score(y_test, preds, average='micro'))\n",
        "models_results['precision_score_macro'].append(precision_score(y_test, preds, average='macro'))\n",
        "models_results['precision_score_weighted'].append(precision_score(y_test, preds, average='weighted'))\n",
        "\n",
        "print(models_results)"
      ],
      "metadata": {
        "colab": {
          "base_uri": "https://localhost:8080/"
        },
        "id": "8wf4W2M_Oo2s",
        "outputId": "32de6f59-554d-43e5-b8ae-86b57ed24587"
      },
      "execution_count": 27,
      "outputs": [
        {
          "output_type": "stream",
          "name": "stdout",
          "text": [
            "{'approach': ['Multi_Grad_Boost'], 'f1_score_micro': [0.46519133241124944], 'f1_score_macro': [0.30729166105479166], 'f1_score_weighted': [0.45505870321938974], 'precision_score_micro': [0.46519133241124944], 'precision_score_macro': [0.3515579448793392], 'precision_score_weighted': [0.4658229998579148]}\n"
          ]
        }
      ]
    },
    {
      "cell_type": "code",
      "source": [
        "#save model\n",
        "import dill\n",
        "\n",
        "with open(\"model_pipeline.dill\", \"wb\") as f:\n",
        "    dill.dump(pipeline, f)"
      ],
      "metadata": {
        "id": "azSL1Pkqsb7o"
      },
      "execution_count": 37,
      "outputs": []
    },
    {
      "cell_type": "code",
      "source": [
        "!pip freeze > \"requirements.txt\""
      ],
      "metadata": {
        "id": "s_OyJ01hslrE"
      },
      "execution_count": 38,
      "outputs": []
    }
  ]
}
